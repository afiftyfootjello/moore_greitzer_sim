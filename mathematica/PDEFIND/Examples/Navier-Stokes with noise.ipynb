{
 "cells": [
  {
   "cell_type": "markdown",
   "metadata": {},
   "source": [
    "# PDE-FIND for identifying Navier-Stokes with added noise\n",
    "\n",
    "Samuel Rudy, 2016\n",
    "\n",
    "This notebook demonstrates PDE-FIND for the vorticity equation given a simulation of fluid flowing around a cylinder with artificial noise added to the solution.\n",
    "\\begin{align*}\n",
    "\\omega_t &= \\frac{1}{Re}\\nabla^2 \\omega - (V \\cdot \\nabla)\\omega\\\\\n",
    "V &= (v,u)\\\\\n",
    "Re &= 100\n",
    "\\end{align*}\n",
    "The x and y components of the velocity field are given as forcing terms to the PDE.  That is, they appear in $\\Theta$, but are not differentiated."
   ]
  },
  {
   "cell_type": "code",
   "execution_count": 1,
   "metadata": {},
   "outputs": [],
   "source": [
    "import sys\n",
    "sys.path.append('/home/cochran/git/cloud-predict/PDEFIND')"
   ]
  },
  {
   "cell_type": "code",
   "execution_count": 2,
   "metadata": {},
   "outputs": [
    {
     "name": "stdout",
     "output_type": "stream",
     "text": [
      "Populating the interactive namespace from numpy and matplotlib\n"
     ]
    }
   ],
   "source": [
    "%pylab inline\n",
    "pylab.rcParams['figure.figsize'] = (12, 6)\n",
    "import numpy as np\n",
    "from mpl_toolkits.mplot3d import Axes3D\n",
    "from PDE_FIND import *\n",
    "import scipy.io as sio\n",
    "import itertools"
   ]
  },
  {
   "cell_type": "markdown",
   "metadata": {},
   "source": [
    "First load the data.  Plotted below is a single timepoint with red outlining the area in which points have been samples for use in the algorithm."
   ]
  },
  {
   "cell_type": "code",
   "execution_count": 3,
   "metadata": {},
   "outputs": [
    {
     "ename": "FileNotFoundError",
     "evalue": "[Errno 2] No such file or directory: '../CYLINDER/DATA/ALL.mat'",
     "output_type": "error",
     "traceback": [
      "\u001b[0;31m---------------------------------------------------------------------------\u001b[0m",
      "\u001b[0;31mFileNotFoundError\u001b[0m                         Traceback (most recent call last)",
      "\u001b[0;32m~/.local/lib/python3.6/site-packages/scipy/io/matlab/mio.py\u001b[0m in \u001b[0;36m_open_file\u001b[0;34m(file_like, appendmat, mode)\u001b[0m\n\u001b[1;32m     38\u001b[0m     \u001b[0;32mtry\u001b[0m\u001b[0;34m:\u001b[0m\u001b[0;34m\u001b[0m\u001b[0;34m\u001b[0m\u001b[0m\n\u001b[0;32m---> 39\u001b[0;31m         \u001b[0;32mreturn\u001b[0m \u001b[0mopen\u001b[0m\u001b[0;34m(\u001b[0m\u001b[0mfile_like\u001b[0m\u001b[0;34m,\u001b[0m \u001b[0mmode\u001b[0m\u001b[0;34m)\u001b[0m\u001b[0;34m,\u001b[0m \u001b[0;32mTrue\u001b[0m\u001b[0;34m\u001b[0m\u001b[0;34m\u001b[0m\u001b[0m\n\u001b[0m\u001b[1;32m     40\u001b[0m     \u001b[0;32mexcept\u001b[0m \u001b[0mIOError\u001b[0m\u001b[0;34m:\u001b[0m\u001b[0;34m\u001b[0m\u001b[0;34m\u001b[0m\u001b[0m\n",
      "\u001b[0;31mFileNotFoundError\u001b[0m: [Errno 2] No such file or directory: '../CYLINDER/DATA/ALL.mat'",
      "\nDuring handling of the above exception, another exception occurred:\n",
      "\u001b[0;31mFileNotFoundError\u001b[0m                         Traceback (most recent call last)",
      "\u001b[0;32m<ipython-input-3-7e4735cb81cc>\u001b[0m in \u001b[0;36m<module>\u001b[0;34m\u001b[0m\n\u001b[1;32m      1\u001b[0m \u001b[0;31m# Load data\u001b[0m\u001b[0;34m\u001b[0m\u001b[0;34m\u001b[0m\u001b[0;34m\u001b[0m\u001b[0m\n\u001b[0;32m----> 2\u001b[0;31m \u001b[0mdata\u001b[0m \u001b[0;34m=\u001b[0m \u001b[0msio\u001b[0m\u001b[0;34m.\u001b[0m\u001b[0mloadmat\u001b[0m\u001b[0;34m(\u001b[0m\u001b[0;34m'../CYLINDER/DATA/ALL.mat'\u001b[0m\u001b[0;34m)\u001b[0m\u001b[0;34m\u001b[0m\u001b[0;34m\u001b[0m\u001b[0m\n\u001b[0m\u001b[1;32m      3\u001b[0m \u001b[0msteps\u001b[0m \u001b[0;34m=\u001b[0m \u001b[0;36m151\u001b[0m\u001b[0;34m\u001b[0m\u001b[0;34m\u001b[0m\u001b[0m\n\u001b[1;32m      4\u001b[0m \u001b[0mn\u001b[0m \u001b[0;34m=\u001b[0m \u001b[0;36m449\u001b[0m\u001b[0;34m\u001b[0m\u001b[0;34m\u001b[0m\u001b[0m\n\u001b[1;32m      5\u001b[0m \u001b[0mm\u001b[0m \u001b[0;34m=\u001b[0m \u001b[0;36m199\u001b[0m\u001b[0;34m\u001b[0m\u001b[0;34m\u001b[0m\u001b[0m\n",
      "\u001b[0;32m~/.local/lib/python3.6/site-packages/scipy/io/matlab/mio.py\u001b[0m in \u001b[0;36mloadmat\u001b[0;34m(file_name, mdict, appendmat, **kwargs)\u001b[0m\n\u001b[1;32m    214\u001b[0m     \"\"\"\n\u001b[1;32m    215\u001b[0m     \u001b[0mvariable_names\u001b[0m \u001b[0;34m=\u001b[0m \u001b[0mkwargs\u001b[0m\u001b[0;34m.\u001b[0m\u001b[0mpop\u001b[0m\u001b[0;34m(\u001b[0m\u001b[0;34m'variable_names'\u001b[0m\u001b[0;34m,\u001b[0m \u001b[0;32mNone\u001b[0m\u001b[0;34m)\u001b[0m\u001b[0;34m\u001b[0m\u001b[0;34m\u001b[0m\u001b[0m\n\u001b[0;32m--> 216\u001b[0;31m     \u001b[0;32mwith\u001b[0m \u001b[0m_open_file_context\u001b[0m\u001b[0;34m(\u001b[0m\u001b[0mfile_name\u001b[0m\u001b[0;34m,\u001b[0m \u001b[0mappendmat\u001b[0m\u001b[0;34m)\u001b[0m \u001b[0;32mas\u001b[0m \u001b[0mf\u001b[0m\u001b[0;34m:\u001b[0m\u001b[0;34m\u001b[0m\u001b[0;34m\u001b[0m\u001b[0m\n\u001b[0m\u001b[1;32m    217\u001b[0m         \u001b[0mMR\u001b[0m\u001b[0;34m,\u001b[0m \u001b[0m_\u001b[0m \u001b[0;34m=\u001b[0m \u001b[0mmat_reader_factory\u001b[0m\u001b[0;34m(\u001b[0m\u001b[0mf\u001b[0m\u001b[0;34m,\u001b[0m \u001b[0;34m**\u001b[0m\u001b[0mkwargs\u001b[0m\u001b[0;34m)\u001b[0m\u001b[0;34m\u001b[0m\u001b[0;34m\u001b[0m\u001b[0m\n\u001b[1;32m    218\u001b[0m         \u001b[0mmatfile_dict\u001b[0m \u001b[0;34m=\u001b[0m \u001b[0mMR\u001b[0m\u001b[0;34m.\u001b[0m\u001b[0mget_variables\u001b[0m\u001b[0;34m(\u001b[0m\u001b[0mvariable_names\u001b[0m\u001b[0;34m)\u001b[0m\u001b[0;34m\u001b[0m\u001b[0;34m\u001b[0m\u001b[0m\n",
      "\u001b[0;32m/usr/lib/python3.6/contextlib.py\u001b[0m in \u001b[0;36m__enter__\u001b[0;34m(self)\u001b[0m\n\u001b[1;32m     79\u001b[0m     \u001b[0;32mdef\u001b[0m \u001b[0m__enter__\u001b[0m\u001b[0;34m(\u001b[0m\u001b[0mself\u001b[0m\u001b[0;34m)\u001b[0m\u001b[0;34m:\u001b[0m\u001b[0;34m\u001b[0m\u001b[0;34m\u001b[0m\u001b[0m\n\u001b[1;32m     80\u001b[0m         \u001b[0;32mtry\u001b[0m\u001b[0;34m:\u001b[0m\u001b[0;34m\u001b[0m\u001b[0;34m\u001b[0m\u001b[0m\n\u001b[0;32m---> 81\u001b[0;31m             \u001b[0;32mreturn\u001b[0m \u001b[0mnext\u001b[0m\u001b[0;34m(\u001b[0m\u001b[0mself\u001b[0m\u001b[0;34m.\u001b[0m\u001b[0mgen\u001b[0m\u001b[0;34m)\u001b[0m\u001b[0;34m\u001b[0m\u001b[0;34m\u001b[0m\u001b[0m\n\u001b[0m\u001b[1;32m     82\u001b[0m         \u001b[0;32mexcept\u001b[0m \u001b[0mStopIteration\u001b[0m\u001b[0;34m:\u001b[0m\u001b[0;34m\u001b[0m\u001b[0;34m\u001b[0m\u001b[0m\n\u001b[1;32m     83\u001b[0m             \u001b[0;32mraise\u001b[0m \u001b[0mRuntimeError\u001b[0m\u001b[0;34m(\u001b[0m\u001b[0;34m\"generator didn't yield\"\u001b[0m\u001b[0;34m)\u001b[0m \u001b[0;32mfrom\u001b[0m \u001b[0;32mNone\u001b[0m\u001b[0;34m\u001b[0m\u001b[0;34m\u001b[0m\u001b[0m\n",
      "\u001b[0;32m~/.local/lib/python3.6/site-packages/scipy/io/matlab/mio.py\u001b[0m in \u001b[0;36m_open_file_context\u001b[0;34m(file_like, appendmat, mode)\u001b[0m\n\u001b[1;32m     17\u001b[0m \u001b[0;34m@\u001b[0m\u001b[0mcontextmanager\u001b[0m\u001b[0;34m\u001b[0m\u001b[0;34m\u001b[0m\u001b[0m\n\u001b[1;32m     18\u001b[0m \u001b[0;32mdef\u001b[0m \u001b[0m_open_file_context\u001b[0m\u001b[0;34m(\u001b[0m\u001b[0mfile_like\u001b[0m\u001b[0;34m,\u001b[0m \u001b[0mappendmat\u001b[0m\u001b[0;34m,\u001b[0m \u001b[0mmode\u001b[0m\u001b[0;34m=\u001b[0m\u001b[0;34m'rb'\u001b[0m\u001b[0;34m)\u001b[0m\u001b[0;34m:\u001b[0m\u001b[0;34m\u001b[0m\u001b[0;34m\u001b[0m\u001b[0m\n\u001b[0;32m---> 19\u001b[0;31m     \u001b[0mf\u001b[0m\u001b[0;34m,\u001b[0m \u001b[0mopened\u001b[0m \u001b[0;34m=\u001b[0m \u001b[0m_open_file\u001b[0m\u001b[0;34m(\u001b[0m\u001b[0mfile_like\u001b[0m\u001b[0;34m,\u001b[0m \u001b[0mappendmat\u001b[0m\u001b[0;34m,\u001b[0m \u001b[0mmode\u001b[0m\u001b[0;34m)\u001b[0m\u001b[0;34m\u001b[0m\u001b[0;34m\u001b[0m\u001b[0m\n\u001b[0m\u001b[1;32m     20\u001b[0m     \u001b[0;32myield\u001b[0m \u001b[0mf\u001b[0m\u001b[0;34m\u001b[0m\u001b[0;34m\u001b[0m\u001b[0m\n\u001b[1;32m     21\u001b[0m     \u001b[0;32mif\u001b[0m \u001b[0mopened\u001b[0m\u001b[0;34m:\u001b[0m\u001b[0;34m\u001b[0m\u001b[0;34m\u001b[0m\u001b[0m\n",
      "\u001b[0;32m~/.local/lib/python3.6/site-packages/scipy/io/matlab/mio.py\u001b[0m in \u001b[0;36m_open_file\u001b[0;34m(file_like, appendmat, mode)\u001b[0m\n\u001b[1;32m     43\u001b[0m             \u001b[0;32mif\u001b[0m \u001b[0mappendmat\u001b[0m \u001b[0;32mand\u001b[0m \u001b[0;32mnot\u001b[0m \u001b[0mfile_like\u001b[0m\u001b[0;34m.\u001b[0m\u001b[0mendswith\u001b[0m\u001b[0;34m(\u001b[0m\u001b[0;34m'.mat'\u001b[0m\u001b[0;34m)\u001b[0m\u001b[0;34m:\u001b[0m\u001b[0;34m\u001b[0m\u001b[0;34m\u001b[0m\u001b[0m\n\u001b[1;32m     44\u001b[0m                 \u001b[0mfile_like\u001b[0m \u001b[0;34m+=\u001b[0m \u001b[0;34m'.mat'\u001b[0m\u001b[0;34m\u001b[0m\u001b[0;34m\u001b[0m\u001b[0m\n\u001b[0;32m---> 45\u001b[0;31m             \u001b[0;32mreturn\u001b[0m \u001b[0mopen\u001b[0m\u001b[0;34m(\u001b[0m\u001b[0mfile_like\u001b[0m\u001b[0;34m,\u001b[0m \u001b[0mmode\u001b[0m\u001b[0;34m)\u001b[0m\u001b[0;34m,\u001b[0m \u001b[0;32mTrue\u001b[0m\u001b[0;34m\u001b[0m\u001b[0;34m\u001b[0m\u001b[0m\n\u001b[0m\u001b[1;32m     46\u001b[0m         \u001b[0;32melse\u001b[0m\u001b[0;34m:\u001b[0m\u001b[0;34m\u001b[0m\u001b[0;34m\u001b[0m\u001b[0m\n\u001b[1;32m     47\u001b[0m             \u001b[0;32mraise\u001b[0m \u001b[0mIOError\u001b[0m\u001b[0;34m(\u001b[0m\u001b[0;34m'Reader needs file name or open file-like object'\u001b[0m\u001b[0;34m)\u001b[0m\u001b[0;34m\u001b[0m\u001b[0;34m\u001b[0m\u001b[0m\n",
      "\u001b[0;31mFileNotFoundError\u001b[0m: [Errno 2] No such file or directory: '../CYLINDER/DATA/ALL.mat'"
     ]
    }
   ],
   "source": [
    "# Load data\n",
    "data = sio.loadmat('../CYLINDER/DATA/ALL.mat')\n",
    "steps = 151\n",
    "n = 449\n",
    "m = 199\n",
    "W = data['VORTALL'].reshape(n,m,steps)   # vorticity\n",
    "U = data['UALL'].reshape(n,m,steps)      # x-component of velocity\n",
    "V = data['VALL'].reshape(n,m,steps)      # y-component of velocity\n",
    "\n",
    "dt = 0.2\n",
    "dx = 0.02\n",
    "dy = 0.02\n",
    "\n",
    "# plot the data\n",
    "xx, yy = meshgrid(\n",
    "    np.arange(449)*dx,\n",
    "    np.arange(199)*dy)\n",
    "pcolor(xx,yy,W[:,:,75].T,cmap='coolwarm', vmin=-4, vmax=4)\n",
    "\n",
    "# Cut out the portion of the data before the cylinder\n",
    "xmin = 100*dx\n",
    "xmax = 425*dx\n",
    "ymin = 15*dy\n",
    "ymax = 185*dy\n",
    "plot([xmin,xmin],[ymin,ymax],'r',linewidth = 2)\n",
    "plot([xmax,xmax],[ymin,ymax],'r',linewidth = 2)\n",
    "plot([xmin,xmax],[ymin,ymin],'r',linewidth = 2)\n",
    "plot([xmin,xmax],[ymax,ymax],'r',linewidth = 2)\n",
    "xlim([0,n*dx-dx])\n",
    "ylim([0,m*dy])\n",
    "title('Sampling Region for Navier Stokes', fontsize = 20)\n",
    "xlabel('x', fontsize = 16)\n",
    "ylabel('y', fontsize = 16)\n",
    "\n",
    "W = W[xmin:xmax,ymin:ymax,:]\n",
    "U = U[xmin:xmax,ymin:ymax,:]\n",
    "V = V[xmin:xmax,ymin:ymax,:]\n",
    "n,m,steps = W.shape\n",
    "\n",
    "# Add in noise with magnitude equal to 1% of std dev of data\n",
    "numpy.random.seed(0)\n",
    "Wn = W + 0.01*np.std(W)*np.random.randn(n,m,steps)\n",
    "Un = U + 0.01*np.std(U)*np.random.randn(n,m,steps)\n",
    "Vn = V + 0.01*np.std(V)*np.random.randn(n,m,steps)"
   ]
  },
  {
   "cell_type": "markdown",
   "metadata": {},
   "source": [
    "## Denoising using the SVD\n",
    "\n",
    "Now denoise using the SVD.  Each snapshot in time is arranged into a column and the resulting matrix is projected onto a low dimensional subspace given by it's most dominant singular vectors.  The dimension used is determined visually from looking for a Pareto front on the singular values, which is easy to see in their plot.  Notice that compared to the clean data, the noisy data's singular values do not fall below a certain value.  We consider those lying on this flat line to correspond to the artificial noise, and throw them away."
   ]
  },
  {
   "cell_type": "code",
   "execution_count": 3,
   "metadata": {},
   "outputs": [],
   "source": [
    "W = W.reshape(n*m,steps)\n",
    "U = U.reshape(n*m,steps)\n",
    "V = V.reshape(n*m,steps)\n",
    "\n",
    "Wn = Wn.reshape(n*m,steps)\n",
    "Un = Un.reshape(n*m,steps)\n",
    "Vn = Vn.reshape(n*m,steps)"
   ]
  },
  {
   "cell_type": "code",
   "execution_count": 4,
   "metadata": {},
   "outputs": [],
   "source": [
    "uw,sigmaw,vw = svd(W, full_matrices=False); vw = vw.T\n",
    "uu,sigmau,vu = svd(U, full_matrices=False); vu = vu.T\n",
    "uv,sigmav,vv = svd(V, full_matrices=False); vv = vv.T\n",
    "\n",
    "uwn,sigmawn,vwn = svd(Wn, full_matrices=False); vwn = vwn.T\n",
    "uun,sigmaun,vun = svd(Un, full_matrices=False); vun = vun.T\n",
    "uvn,sigmavn,vvn = svd(Vn, full_matrices=False); vvn = vvn.T"
   ]
  },
  {
   "cell_type": "code",
   "execution_count": 5,
   "metadata": {},
   "outputs": [
    {
     "data": {
      "text/plain": [
       "<matplotlib.text.Text at 0x7f8bfcff0a50>"
      ]
     },
     "execution_count": 5,
     "metadata": {},
     "output_type": "execute_result"
    },
    {
     "data": {
      "image/png": "[encoded data removed]",
      "text/plain": [
       "<matplotlib.figure.Figure at 0x7f8bfd0128d0>"
      ]
     },
     "metadata": {},
     "output_type": "display_data"
    }
   ],
   "source": [
    "# singular values of clean data\n",
    "semilogy(np.arange(151),sigmaw, 'r', label = r'$\\omega$')\n",
    "semilogy(np.arange(151),sigmau, 'g', label = r'$u$')\n",
    "semilogy(np.arange(151),sigmav, 'b', label = r'$v$')\n",
    "\n",
    "# singular values of noisy data\n",
    "semilogy(np.arange(151),sigmawn, '--',color ='r')\n",
    "semilogy(np.arange(151),sigmaun, '--',color ='g')\n",
    "semilogy(np.arange(151),sigmavn, '--',color ='b')\n",
    "\n",
    "legend(loc = 'upper right', fontsize = 20)\n",
    "xticks(fontsize = 16)\n",
    "yticks(fontsize = 16)\n",
    "\n",
    "title('Singular Values from Proper Orthogonal Decomposition\\n (Dashed with noise)', fontsize = 20)"
   ]
  },
  {
   "cell_type": "code",
   "execution_count": 6,
   "metadata": {},
   "outputs": [],
   "source": [
    "dim_w = 26\n",
    "dim_u = 20\n",
    "dim_v = 20\n",
    "\n",
    "Wn = uwn[:,0:dim_w].dot(np.diag(sigmawn[0:dim_w]).dot(vwn[:,0:dim_w].T)).reshape(n,m,steps)\n",
    "Un = uun[:,0:dim_u].dot(np.diag(sigmaun[0:dim_u]).dot(vun[:,0:dim_u].T)).reshape(n,m,steps)\n",
    "Vn = uvn[:,0:dim_v].dot(np.diag(sigmavn[0:dim_v]).dot(vvn[:,0:dim_v].T)).reshape(n,m,steps)"
   ]
  },
  {
   "cell_type": "markdown",
   "metadata": {},
   "source": [
    "## Sample data points\n",
    "\n",
    "Now collect a sample of points to use for PDE-FIND.  Here we take 5000 spatial points and 60 time points at each."
   ]
  },
  {
   "cell_type": "code",
   "execution_count": 7,
   "metadata": {
    "collapsed": true
   },
   "outputs": [],
   "source": [
    "# Sample a collection of data points, stay away from edges so I can just use centered finite differences.\n",
    "num_xy = 5000\n",
    "num_t = 60\n",
    "num_points = num_xy * num_t\n",
    "boundary = 5\n",
    "boundary_x = 10\n",
    "points = {}\n",
    "count = 0\n",
    "\n",
    "for p in range(num_xy):\n",
    "    x = np.random.choice(np.arange(boundary_x,n-boundary_x),1)[0]\n",
    "    y = np.random.choice(np.arange(boundary,m-boundary),1)[0]\n",
    "    for t in range(num_t):\n",
    "        points[count] = [x,y,2*t+12]\n",
    "        count = count + 1"
   ]
  },
  {
   "cell_type": "markdown",
   "metadata": {},
   "source": [
    "## Construct $\\Theta (U)$ and compute $U_t$\n",
    "\n",
    "Take derivatives and assemble into $\\Theta(\\omega, u ,v)$"
   ]
  },
  {
   "cell_type": "code",
   "execution_count": 8,
   "metadata": {},
   "outputs": [],
   "source": [
    "# Take derivatives of vorticity at each point.  Not the most elegant way of doing this...\n",
    "#PolyDiffPoint(array of fcn vals, domain vals, degree, derivatives to take): -> array of derivatives  \n",
    "\n",
    "# Take up to second order derivatives.\n",
    "w = np.zeros((num_points,1))\n",
    "u = np.zeros((num_points,1))\n",
    "v = np.zeros((num_points,1))\n",
    "wt = np.zeros((num_points,1))\n",
    "wx = np.zeros((num_points,1))\n",
    "wy = np.zeros((num_points,1))\n",
    "wxx = np.zeros((num_points,1))\n",
    "wxy = np.zeros((num_points,1))\n",
    "wyy = np.zeros((num_points,1))\n",
    "\n",
    "N = 2*boundary-1  # odd number of points to use in fitting\n",
    "Nx = 2*boundary_x-1  # odd number of points to use in fitting\n",
    "deg = 5 # degree of polynomial to use\n",
    "\n",
    "for p in points.keys():\n",
    "    \n",
    "    [x,y,t] = points[p]\n",
    "    w[p] = Wn[x,y,t]\n",
    "    u[p] = Un[x,y,t]\n",
    "    v[p] = Vn[x,y,t]\n",
    "    \n",
    "    wt[p] = PolyDiffPoint(Wn[x,y,t-(N-1)/2:t+(N+1)/2], np.arange(N)*dt, deg, 1)[0]\n",
    "    \n",
    "    x_diff = PolyDiffPoint(Wn[x-(Nx-1)/2:x+(Nx+1)/2,y,t], np.arange(Nx)*dx, deg, 2)\n",
    "    y_diff = PolyDiffPoint(Wn[x,y-(N-1)/2:y+(N+1)/2,t], np.arange(N)*dy, deg, 2)\n",
    "    wx[p] = x_diff[0]\n",
    "    wy[p] = y_diff[0]\n",
    "    \n",
    "    x_diff_yp = PolyDiffPoint(Wn[x-(Nx-1)/2:x+(Nx+1)/2,y+1,t], np.arange(Nx)*dx, deg, 2)\n",
    "    x_diff_ym = PolyDiffPoint(Wn[x-(Nx-1)/2:x+(Nx+1)/2,y-1,t], np.arange(Nx)*dx, deg, 2)\n",
    "    \n",
    "    wxx[p] = x_diff[1]\n",
    "    wxy[p] = (x_diff_yp[0]-x_diff_ym[0])/(2*dy)\n",
    "    wyy[p] = y_diff[1]"
   ]
  },
  {
   "cell_type": "code",
   "execution_count": 9,
   "metadata": {},
   "outputs": [],
   "source": [
    "# Form a huge matrix using up to quadratic polynomials in all variables.\n",
    "X_data = np.hstack([w,u,v])\n",
    "X_ders = np.hstack([np.ones((num_points,1)), wx, wy, wxx, wxy, wyy])\n",
    "X_ders_descr = ['','w_{x}', 'w_{y}','w_{xx}','w_{xy}','w_{yy}']\n",
    "X, description = build_Theta(X_data, X_ders, X_ders_descr, 2, data_description = ['w','u','v'])"
   ]
  },
  {
   "cell_type": "markdown",
   "metadata": {},
   "source": [
    "These are all the cadidate functions which we are selecting from."
   ]
  },
  {
   "cell_type": "code",
   "execution_count": 10,
   "metadata": {},
   "outputs": [
    {
     "data": {
      "text/plain": [
       "['',\n",
       " 'w_{x}',\n",
       " 'w_{y}',\n",
       " 'w_{xx}',\n",
       " 'w_{xy}',\n",
       " 'w_{yy}',\n",
       " 'uv',\n",
       " 'v^2',\n",
       " 'u^2',\n",
       " 'w',\n",
       " 'wu',\n",
       " 'v',\n",
       " 'wv',\n",
       " 'u',\n",
       " 'w^2',\n",
       " 'uvw_{x}',\n",
       " 'v^2w_{x}',\n",
       " 'u^2w_{x}',\n",
       " 'ww_{x}',\n",
       " 'wuw_{x}',\n",
       " 'vw_{x}',\n",
       " 'wvw_{x}',\n",
       " 'uw_{x}',\n",
       " 'w^2w_{x}',\n",
       " 'uvw_{y}',\n",
       " 'v^2w_{y}',\n",
       " 'u^2w_{y}',\n",
       " 'ww_{y}',\n",
       " 'wuw_{y}',\n",
       " 'vw_{y}',\n",
       " 'wvw_{y}',\n",
       " 'uw_{y}',\n",
       " 'w^2w_{y}',\n",
       " 'uvw_{xx}',\n",
       " 'v^2w_{xx}',\n",
       " 'u^2w_{xx}',\n",
       " 'ww_{xx}',\n",
       " 'wuw_{xx}',\n",
       " 'vw_{xx}',\n",
       " 'wvw_{xx}',\n",
       " 'uw_{xx}',\n",
       " 'w^2w_{xx}',\n",
       " 'uvw_{xy}',\n",
       " 'v^2w_{xy}',\n",
       " 'u^2w_{xy}',\n",
       " 'ww_{xy}',\n",
       " 'wuw_{xy}',\n",
       " 'vw_{xy}',\n",
       " 'wvw_{xy}',\n",
       " 'uw_{xy}',\n",
       " 'w^2w_{xy}',\n",
       " 'uvw_{yy}',\n",
       " 'v^2w_{yy}',\n",
       " 'u^2w_{yy}',\n",
       " 'ww_{yy}',\n",
       " 'wuw_{yy}',\n",
       " 'vw_{yy}',\n",
       " 'wvw_{yy}',\n",
       " 'uw_{yy}',\n",
       " 'w^2w_{yy}']"
      ]
     },
     "execution_count": 10,
     "metadata": {},
     "output_type": "execute_result"
    }
   ],
   "source": [
    "description"
   ]
  },
  {
   "cell_type": "markdown",
   "metadata": {},
   "source": [
    "## Solve for $\\xi$\n",
    "\n",
    "TrainSTRidge splits the data up into 80% for training and 20% for validation.  It searches over various tolerances in the STRidge algorithm and finds the one with the best performance on the validation set, including an $\\ell^0$ penalty for $\\xi$ in the loss function."
   ]
  },
  {
   "cell_type": "code",
   "execution_count": 11,
   "metadata": {},
   "outputs": [
    {
     "name": "stdout",
     "output_type": "stream",
     "text": [
      "w_t = (0.010707 +0.000000i)w_{xx}\n",
      "    + (0.008346 +0.000000i)w_{yy}\n",
      "    + (-0.987655 +0.000000i)uw_{x}\n",
      "    + (-0.982926 +0.000000i)vw_{y}\n",
      "   \n"
     ]
    }
   ],
   "source": [
    "lam = 10**-5\n",
    "d_tol = 5\n",
    "c = TrainSTRidge(X,wt,lam,d_tol)\n",
    "print_pde(c, description, ut = 'w_t')"
   ]
  },
  {
   "cell_type": "code",
   "execution_count": 12,
   "metadata": {},
   "outputs": [
    {
     "name": "stdout",
     "output_type": "stream",
     "text": [
      "0.7945\n",
      "0.697610145425\n"
     ]
    }
   ],
   "source": [
    "err = abs(np.array([0.010707-0.01, 0.008346-0.01, -0.987655+1, -0.982926+1]))\n",
    "print mean(err)*100\n",
    "print std(err)*100"
   ]
  },
  {
   "cell_type": "code",
   "execution_count": null,
   "metadata": {
    "collapsed": true
   },
   "outputs": [],
   "source": []
  }
 ],
 "metadata": {
  "anaconda-cloud": {},
  "kernelspec": {
   "display_name": "Python 3",
   "language": "python",
   "name": "python3"
  },
  "language_info": {
   "codemirror_mode": {
    "name": "ipython",
    "version": 3
   },
   "file_extension": ".py",
   "mimetype": "text/x-python",
   "name": "python",
   "nbconvert_exporter": "python",
   "pygments_lexer": "ipython3",
   "version": "3.6.8"
  }
 },
 "nbformat": 4,
 "nbformat_minor": 1
}
