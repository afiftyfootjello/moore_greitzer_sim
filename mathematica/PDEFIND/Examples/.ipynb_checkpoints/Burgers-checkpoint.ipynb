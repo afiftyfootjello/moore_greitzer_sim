{
 "cells": [
  {
   "cell_type": "markdown",
   "metadata": {},
   "source": [
    "# PDE-FIND for Burger's Equation\n",
    "\n",
    "Samuel Rudy, 2016\n",
    "\n",
    "This notebook demonstrates PDE-FIND on Burger's equation with an added diffusive term.\n",
    "$$\n",
    "u_t + uu_x = u_{xx}\n",
    "$$\n",
    "The solution given is a single travelling wave, starting out as a Gaussian."
   ]
  },
  {
   "cell_type": "code",
   "execution_count": 3,
   "metadata": {},
   "outputs": [],
   "source": [
    "import sys\n",
    "sys.path.append('/home/cochran/git/cloud-predict/PDE-FIND')"
   ]
  },
  {
   "cell_type": "code",
   "execution_count": 4,
   "metadata": {},
   "outputs": [
    {
     "name": "stdout",
     "output_type": "stream",
     "text": [
      "Populating the interactive namespace from numpy and matplotlib\n"
     ]
    }
   ],
   "source": [
    "%pylab inline\n",
    "pylab.rcParams['figure.figsize'] = (12, 8)\n",
    "import numpy as np\n",
    "from mpl_toolkits.mplot3d import Axes3D\n",
    "from PDE_FIND import *\n",
    "import scipy.io as sio\n",
    "import itertools"
   ]
  },
  {
   "cell_type": "code",
   "execution_count": 5,
   "metadata": {},
   "outputs": [
    {
     "name": "stdout",
     "output_type": "stream",
     "text": [
      "{'__header__': b'MATLAB 5.0 MAT-file, Platform: MACI64, Created on: Sat Aug 27 07:36:14 2016', '__version__': '1.0', '__globals__': [], 't': array([[ 0. ],\n",
      "       [ 0.1],\n",
      "       [ 0.2],\n",
      "       [ 0.3],\n",
      "       [ 0.4],\n",
      "       [ 0.5],\n",
      "       [ 0.6],\n",
      "       [ 0.7],\n",
      "       [ 0.8],\n",
      "       [ 0.9],\n",
      "       [ 1. ],\n",
      "       [ 1.1],\n",
      "       [ 1.2],\n",
      "       [ 1.3],\n",
      "       [ 1.4],\n",
      "       [ 1.5],\n",
      "       [ 1.6],\n",
      "       [ 1.7],\n",
      "       [ 1.8],\n",
      "       [ 1.9],\n",
      "       [ 2. ],\n",
      "       [ 2.1],\n",
      "       [ 2.2],\n",
      "       [ 2.3],\n",
      "       [ 2.4],\n",
      "       [ 2.5],\n",
      "       [ 2.6],\n",
      "       [ 2.7],\n",
      "       [ 2.8],\n",
      "       [ 2.9],\n",
      "       [ 3. ],\n",
      "       [ 3.1],\n",
      "       [ 3.2],\n",
      "       [ 3.3],\n",
      "       [ 3.4],\n",
      "       [ 3.5],\n",
      "       [ 3.6],\n",
      "       [ 3.7],\n",
      "       [ 3.8],\n",
      "       [ 3.9],\n",
      "       [ 4. ],\n",
      "       [ 4.1],\n",
      "       [ 4.2],\n",
      "       [ 4.3],\n",
      "       [ 4.4],\n",
      "       [ 4.5],\n",
      "       [ 4.6],\n",
      "       [ 4.7],\n",
      "       [ 4.8],\n",
      "       [ 4.9],\n",
      "       [ 5. ],\n",
      "       [ 5.1],\n",
      "       [ 5.2],\n",
      "       [ 5.3],\n",
      "       [ 5.4],\n",
      "       [ 5.5],\n",
      "       [ 5.6],\n",
      "       [ 5.7],\n",
      "       [ 5.8],\n",
      "       [ 5.9],\n",
      "       [ 6. ],\n",
      "       [ 6.1],\n",
      "       [ 6.2],\n",
      "       [ 6.3],\n",
      "       [ 6.4],\n",
      "       [ 6.5],\n",
      "       [ 6.6],\n",
      "       [ 6.7],\n",
      "       [ 6.8],\n",
      "       [ 6.9],\n",
      "       [ 7. ],\n",
      "       [ 7.1],\n",
      "       [ 7.2],\n",
      "       [ 7.3],\n",
      "       [ 7.4],\n",
      "       [ 7.5],\n",
      "       [ 7.6],\n",
      "       [ 7.7],\n",
      "       [ 7.8],\n",
      "       [ 7.9],\n",
      "       [ 8. ],\n",
      "       [ 8.1],\n",
      "       [ 8.2],\n",
      "       [ 8.3],\n",
      "       [ 8.4],\n",
      "       [ 8.5],\n",
      "       [ 8.6],\n",
      "       [ 8.7],\n",
      "       [ 8.8],\n",
      "       [ 8.9],\n",
      "       [ 9. ],\n",
      "       [ 9.1],\n",
      "       [ 9.2],\n",
      "       [ 9.3],\n",
      "       [ 9.4],\n",
      "       [ 9.5],\n",
      "       [ 9.6],\n",
      "       [ 9.7],\n",
      "       [ 9.8],\n",
      "       [ 9.9],\n",
      "       [10. ]]), 'x': array([[-8.    , -7.9375, -7.875 , -7.8125, -7.75  , -7.6875, -7.625 ,\n",
      "        -7.5625, -7.5   , -7.4375, -7.375 , -7.3125, -7.25  , -7.1875,\n",
      "        -7.125 , -7.0625, -7.    , -6.9375, -6.875 , -6.8125, -6.75  ,\n",
      "        -6.6875, -6.625 , -6.5625, -6.5   , -6.4375, -6.375 , -6.3125,\n",
      "        -6.25  , -6.1875, -6.125 , -6.0625, -6.    , -5.9375, -5.875 ,\n",
      "        -5.8125, -5.75  , -5.6875, -5.625 , -5.5625, -5.5   , -5.4375,\n",
      "        -5.375 , -5.3125, -5.25  , -5.1875, -5.125 , -5.0625, -5.    ,\n",
      "        -4.9375, -4.875 , -4.8125, -4.75  , -4.6875, -4.625 , -4.5625,\n",
      "        -4.5   , -4.4375, -4.375 , -4.3125, -4.25  , -4.1875, -4.125 ,\n",
      "        -4.0625, -4.    , -3.9375, -3.875 , -3.8125, -3.75  , -3.6875,\n",
      "        -3.625 , -3.5625, -3.5   , -3.4375, -3.375 , -3.3125, -3.25  ,\n",
      "        -3.1875, -3.125 , -3.0625, -3.    , -2.9375, -2.875 , -2.8125,\n",
      "        -2.75  , -2.6875, -2.625 , -2.5625, -2.5   , -2.4375, -2.375 ,\n",
      "        -2.3125, -2.25  , -2.1875, -2.125 , -2.0625, -2.    , -1.9375,\n",
      "        -1.875 , -1.8125, -1.75  , -1.6875, -1.625 , -1.5625, -1.5   ,\n",
      "        -1.4375, -1.375 , -1.3125, -1.25  , -1.1875, -1.125 , -1.0625,\n",
      "        -1.    , -0.9375, -0.875 , -0.8125, -0.75  , -0.6875, -0.625 ,\n",
      "        -0.5625, -0.5   , -0.4375, -0.375 , -0.3125, -0.25  , -0.1875,\n",
      "        -0.125 , -0.0625,  0.    ,  0.0625,  0.125 ,  0.1875,  0.25  ,\n",
      "         0.3125,  0.375 ,  0.4375,  0.5   ,  0.5625,  0.625 ,  0.6875,\n",
      "         0.75  ,  0.8125,  0.875 ,  0.9375,  1.    ,  1.0625,  1.125 ,\n",
      "         1.1875,  1.25  ,  1.3125,  1.375 ,  1.4375,  1.5   ,  1.5625,\n",
      "         1.625 ,  1.6875,  1.75  ,  1.8125,  1.875 ,  1.9375,  2.    ,\n",
      "         2.0625,  2.125 ,  2.1875,  2.25  ,  2.3125,  2.375 ,  2.4375,\n",
      "         2.5   ,  2.5625,  2.625 ,  2.6875,  2.75  ,  2.8125,  2.875 ,\n",
      "         2.9375,  3.    ,  3.0625,  3.125 ,  3.1875,  3.25  ,  3.3125,\n",
      "         3.375 ,  3.4375,  3.5   ,  3.5625,  3.625 ,  3.6875,  3.75  ,\n",
      "         3.8125,  3.875 ,  3.9375,  4.    ,  4.0625,  4.125 ,  4.1875,\n",
      "         4.25  ,  4.3125,  4.375 ,  4.4375,  4.5   ,  4.5625,  4.625 ,\n",
      "         4.6875,  4.75  ,  4.8125,  4.875 ,  4.9375,  5.    ,  5.0625,\n",
      "         5.125 ,  5.1875,  5.25  ,  5.3125,  5.375 ,  5.4375,  5.5   ,\n",
      "         5.5625,  5.625 ,  5.6875,  5.75  ,  5.8125,  5.875 ,  5.9375,\n",
      "         6.    ,  6.0625,  6.125 ,  6.1875,  6.25  ,  6.3125,  6.375 ,\n",
      "         6.4375,  6.5   ,  6.5625,  6.625 ,  6.6875,  6.75  ,  6.8125,\n",
      "         6.875 ,  6.9375,  7.    ,  7.0625,  7.125 ,  7.1875,  7.25  ,\n",
      "         7.3125,  7.375 ,  7.4375,  7.5   ,  7.5625,  7.625 ,  7.6875,\n",
      "         7.75  ,  7.8125,  7.875 ,  7.9375]]), 'usol': array([[ 2.22044605e-16+0.00000000e+00j, -4.31008024e-11+2.83319071e-13j,\n",
      "         4.77340778e-10-7.60066541e-11j, ...,\n",
      "         1.81398207e-04-2.31123818e-10j,  1.90083736e-04+1.63855813e-09j,\n",
      "         1.99013820e-04+2.01531609e-10j],\n",
      "       [ 4.85722573e-16+0.00000000e+00j,  4.28848658e-11-2.71289069e-13j,\n",
      "        -4.78508736e-10+7.65315140e-11j, ...,\n",
      "         2.08914676e-04+2.30456703e-10j,  2.18644653e-04-1.63628166e-09j,\n",
      "         2.28635026e-04-2.01591142e-10j],\n",
      "       [ 1.04083409e-15+0.00000000e+00j, -4.26225071e-11+2.59929136e-13j,\n",
      "         4.79589604e-10-7.70812142e-11j, ...,\n",
      "         2.40188515e-04-2.29806690e-10j,  2.51064261e-04+1.63395083e-09j,\n",
      "         2.62217886e-04+2.01620597e-10j],\n",
      "       ...,\n",
      "       [-7.80625564e-17+0.00000000e+00j,  4.34146816e-11-3.30311706e-13j,\n",
      "        -4.73120376e-10+7.45735456e-11j, ...,\n",
      "         1.17517897e-04+2.33234480e-10j,  1.23619041e-04-1.64503257e-09j,\n",
      "         1.29915917e-04-2.01155111e-10j],\n",
      "       [-1.82145965e-17+0.00000000e+00j, -4.33821173e-11+3.12188757e-13j,\n",
      "         4.74640424e-10-7.50281691e-11j, ...,\n",
      "         1.36050551e-04-2.32512900e-10j,  1.42928147e-04+1.64293566e-09j,\n",
      "         1.50017788e-04+2.01313973e-10j],\n",
      "       [ 2.08166817e-17+0.00000000e+00j,  4.32728853e-11-2.96694498e-13j,\n",
      "        -4.76044357e-10+7.55055801e-11j, ...,\n",
      "         1.57232607e-04+2.31809909e-10j,  1.64970064e-04-1.64077580e-09j,\n",
      "         1.72934908e-04-2.01438167e-10j]])}\n"
     ]
    }
   ],
   "source": [
    "data = sio.loadmat('../Datasets/burgers.mat')\n",
    "u = real(data['usol'])\n",
    "x = real(data['x'][0])\n",
    "t = real(data['t'][:,0])\n",
    "dt = t[1]-t[0]\n",
    "dx = x[2]-x[1]\n"
   ]
  },
  {
   "cell_type": "code",
   "execution_count": 7,
   "metadata": {},
   "outputs": [
    {
     "data": {
      "text/plain": [
       "Text(0.5, 0, 't')"
      ]
     },
     "execution_count": 7,
     "metadata": {},
     "output_type": "execute_result"
    },
    {
     "data": {
      "image/png": "[encoded data removed]",
      "text/plain": [
       "<Figure size 432x288 with 1 Axes>"
      ]
     },
     "metadata": {
      "needs_background": "light"
     },
     "output_type": "display_data"
    }
   ],
   "source": [
    "X, T = np.meshgrid(x, t)\n",
    "fig1 = figure()\n",
    "ax = fig1.gca(projection='3d')\n",
    "surf = ax.plot_surface(X, T, u.T, rstride=1, cstride=1, cmap=cm.coolwarm,\n",
    "    linewidth=0, antialiased=False)\n",
    "title('Burgers Equation', fontsize = 20)\n",
    "xlabel('x', fontsize = 16)\n",
    "ylabel('t', fontsize = 16)"
   ]
  },
  {
   "cell_type": "markdown",
   "metadata": {},
   "source": [
    "## Construct $\\Theta (U)$ and compute $U_t$\n",
    "\n",
    "The function build_linear_system does this for us.  We specify <br>\n",
    "D = highest derivative to appear in $\\Theta$  <br>\n",
    "P = highest degree polynomial of $u$ to appear in $\\Theta$ (not including multiplication by a derivative.  <br>\n",
    "time_diff and space_diff taken via finite differences\n",
    "\n",
    "Printed out is a list of candidate functions for the PDE.  Each is a column of $\\Theta (U)$"
   ]
  },
  {
   "cell_type": "code",
   "execution_count": 20,
   "metadata": {},
   "outputs": [
    {
     "data": {
      "text/plain": [
       "['1',\n",
       " 'u',\n",
       " 'u^2',\n",
       " 'u^3',\n",
       " 'u^4',\n",
       " 'u^5',\n",
       " 'u^6',\n",
       " 'u^7',\n",
       " 'u^8',\n",
       " 'u^9',\n",
       " 'u^10',\n",
       " 'u_{x}',\n",
       " 'uu_{x}',\n",
       " 'u^2u_{x}',\n",
       " 'u^3u_{x}',\n",
       " 'u^4u_{x}',\n",
       " 'u^5u_{x}',\n",
       " 'u^6u_{x}',\n",
       " 'u^7u_{x}',\n",
       " 'u^8u_{x}',\n",
       " 'u^9u_{x}',\n",
       " 'u^10u_{x}',\n",
       " 'u_{xx}',\n",
       " 'uu_{xx}',\n",
       " 'u^2u_{xx}',\n",
       " 'u^3u_{xx}',\n",
       " 'u^4u_{xx}',\n",
       " 'u^5u_{xx}',\n",
       " 'u^6u_{xx}',\n",
       " 'u^7u_{xx}',\n",
       " 'u^8u_{xx}',\n",
       " 'u^9u_{xx}',\n",
       " 'u^10u_{xx}',\n",
       " 'u_{xxx}',\n",
       " 'uu_{xxx}',\n",
       " 'u^2u_{xxx}',\n",
       " 'u^3u_{xxx}',\n",
       " 'u^4u_{xxx}',\n",
       " 'u^5u_{xxx}',\n",
       " 'u^6u_{xxx}',\n",
       " 'u^7u_{xxx}',\n",
       " 'u^8u_{xxx}',\n",
       " 'u^9u_{xxx}',\n",
       " 'u^10u_{xxx}',\n",
       " 'u_{xxxx}',\n",
       " 'uu_{xxxx}',\n",
       " 'u^2u_{xxxx}',\n",
       " 'u^3u_{xxxx}',\n",
       " 'u^4u_{xxxx}',\n",
       " 'u^5u_{xxxx}',\n",
       " 'u^6u_{xxxx}',\n",
       " 'u^7u_{xxxx}',\n",
       " 'u^8u_{xxxx}',\n",
       " 'u^9u_{xxxx}',\n",
       " 'u^10u_{xxxx}',\n",
       " 'u_{xxxxx}',\n",
       " 'uu_{xxxxx}',\n",
       " 'u^2u_{xxxxx}',\n",
       " 'u^3u_{xxxxx}',\n",
       " 'u^4u_{xxxxx}',\n",
       " 'u^5u_{xxxxx}',\n",
       " 'u^6u_{xxxxx}',\n",
       " 'u^7u_{xxxxx}',\n",
       " 'u^8u_{xxxxx}',\n",
       " 'u^9u_{xxxxx}',\n",
       " 'u^10u_{xxxxx}',\n",
       " 'u_{xxxxxx}',\n",
       " 'uu_{xxxxxx}',\n",
       " 'u^2u_{xxxxxx}',\n",
       " 'u^3u_{xxxxxx}',\n",
       " 'u^4u_{xxxxxx}',\n",
       " 'u^5u_{xxxxxx}',\n",
       " 'u^6u_{xxxxxx}',\n",
       " 'u^7u_{xxxxxx}',\n",
       " 'u^8u_{xxxxxx}',\n",
       " 'u^9u_{xxxxxx}',\n",
       " 'u^10u_{xxxxxx}',\n",
       " 'u_{xxxxxxx}',\n",
       " 'uu_{xxxxxxx}',\n",
       " 'u^2u_{xxxxxxx}',\n",
       " 'u^3u_{xxxxxxx}',\n",
       " 'u^4u_{xxxxxxx}',\n",
       " 'u^5u_{xxxxxxx}',\n",
       " 'u^6u_{xxxxxxx}',\n",
       " 'u^7u_{xxxxxxx}',\n",
       " 'u^8u_{xxxxxxx}',\n",
       " 'u^9u_{xxxxxxx}',\n",
       " 'u^10u_{xxxxxxx}',\n",
       " 'u_{xxxxxxxx}',\n",
       " 'uu_{xxxxxxxx}',\n",
       " 'u^2u_{xxxxxxxx}',\n",
       " 'u^3u_{xxxxxxxx}',\n",
       " 'u^4u_{xxxxxxxx}',\n",
       " 'u^5u_{xxxxxxxx}',\n",
       " 'u^6u_{xxxxxxxx}',\n",
       " 'u^7u_{xxxxxxxx}',\n",
       " 'u^8u_{xxxxxxxx}',\n",
       " 'u^9u_{xxxxxxxx}',\n",
       " 'u^10u_{xxxxxxxx}',\n",
       " 'u_{xxxxxxxxx}',\n",
       " 'uu_{xxxxxxxxx}',\n",
       " 'u^2u_{xxxxxxxxx}',\n",
       " 'u^3u_{xxxxxxxxx}',\n",
       " 'u^4u_{xxxxxxxxx}',\n",
       " 'u^5u_{xxxxxxxxx}',\n",
       " 'u^6u_{xxxxxxxxx}',\n",
       " 'u^7u_{xxxxxxxxx}',\n",
       " 'u^8u_{xxxxxxxxx}',\n",
       " 'u^9u_{xxxxxxxxx}',\n",
       " 'u^10u_{xxxxxxxxx}',\n",
       " 'u_{xxxxxxxxxx}',\n",
       " 'uu_{xxxxxxxxxx}',\n",
       " 'u^2u_{xxxxxxxxxx}',\n",
       " 'u^3u_{xxxxxxxxxx}',\n",
       " 'u^4u_{xxxxxxxxxx}',\n",
       " 'u^5u_{xxxxxxxxxx}',\n",
       " 'u^6u_{xxxxxxxxxx}',\n",
       " 'u^7u_{xxxxxxxxxx}',\n",
       " 'u^8u_{xxxxxxxxxx}',\n",
       " 'u^9u_{xxxxxxxxxx}',\n",
       " 'u^10u_{xxxxxxxxxx}']"
      ]
     },
     "execution_count": 20,
     "metadata": {},
     "output_type": "execute_result"
    }
   ],
   "source": [
    "Ut, R, rhs_des = build_linear_system(u, dt, dx, D=10, P=10, time_diff = 'FD', space_diff = 'FD')\n",
    "['1'] + rhs_des[1:]"
   ]
  },
  {
   "cell_type": "markdown",
   "metadata": {},
   "source": [
    "## Solve for $\\xi$\n",
    "\n",
    "TrainSTRidge splits the data up into 80% for training and 20% for validation.  It searches over various tolerances in the STRidge algorithm and finds the one with the best performance on the validation set, including an $\\ell^0$ penalty for $\\xi$ in the loss function."
   ]
  },
  {
   "cell_type": "code",
   "execution_count": 22,
   "metadata": {},
   "outputs": [
    {
     "name": "stdout",
     "output_type": "stream",
     "text": [
      "PDE derived using STRidge\n",
      "u_t = (-0.905299 +0.000000i)uu_{x}\n",
      "   \n"
     ]
    }
   ],
   "source": [
    "# Solve with STRidge\n",
    "w = TrainSTRidge(R,Ut,10**-5,1)\n",
    "print(\"PDE derived using STRidge\")\n",
    "print_pde(w, rhs_des)"
   ]
  },
  {
   "cell_type": "code",
   "execution_count": 23,
   "metadata": {},
   "outputs": [
    {
     "name": "stdout",
     "output_type": "stream",
     "text": [
      "Error using PDE-FIND to identify Burger's equation:\n",
      "\n",
      "Mean parameter error: 0.15935000000000255 %\n",
      "Standard deviation of parameter error: 0.06064999999999543 %\n"
     ]
    }
   ],
   "source": [
    "err = abs(np.array([(1 -  1.000987)*100, (.1 - 0.100220)*100/0.1]))\n",
    "print(\"Error using PDE-FIND to identify Burger's equation:\\n\")\n",
    "print(\"Mean parameter error:\", mean(err), '%')\n",
    "print(\"Standard deviation of parameter error:\", std(err), '%')"
   ]
  },
  {
   "cell_type": "markdown",
   "metadata": {},
   "source": [
    "## Now identify the same dynamics but with added noise.\n",
    "\n",
    "The only difference from above is that finite differences work poorly for noisy data so here we use polynomial interpolation.  With deg_x or deg_t and width_x or width_t we specify the degree number of points used to fit the polynomials used for differentiating x or t.  Unfortunately, the result can be sensitive to these."
   ]
  },
  {
   "cell_type": "code",
   "execution_count": 19,
   "metadata": {},
   "outputs": [],
   "source": [
    "numpy.random.seed(0)\n",
    "un = u + 0.01*std(u)*np.random.randn(u.shape[0],u.shape[1])"
   ]
  },
  {
   "cell_type": "code",
   "execution_count": 8,
   "metadata": {},
   "outputs": [],
   "source": [
    "Utn, Rn, rhs_des = build_linear_system(un, dt, dx, D=3, P=3, time_diff = 'poly',\n",
    "                                       deg_x = 4, deg_t = 4, \n",
    "                                       width_x = 10, width_t = 10)"
   ]
  },
  {
   "cell_type": "code",
   "execution_count": 9,
   "metadata": {},
   "outputs": [
    {
     "name": "stdout",
     "output_type": "stream",
     "text": [
      "PDE derived using STRidge\n",
      "u_t = (-1.009655 +0.000000i)uu_{x}\n",
      "    + (0.102966 +0.000000i)u_{xx}\n",
      "   \n"
     ]
    }
   ],
   "source": [
    "# Solve with STRidge\n",
    "w = TrainSTRidge(Rn,Utn,10**-5,1)\n",
    "print \"PDE derived using STRidge\"\n",
    "print_pde(w, rhs_des)"
   ]
  },
  {
   "cell_type": "code",
   "execution_count": 10,
   "metadata": {},
   "outputs": [
    {
     "name": "stdout",
     "output_type": "stream",
     "text": [
      "Error using PDE-FIND to identify Burger's equation with added noise:\n",
      "\n",
      "Mean parameter error: 1.96575 %\n",
      "Standard deviation of parameter error: 1.00025 %\n"
     ]
    }
   ],
   "source": [
    "err = abs(np.array([(1 -  1.009655)*100, (.1 - 0.102966)*100/0.1]))\n",
    "print \"Error using PDE-FIND to identify Burger's equation with added noise:\\n\"\n",
    "print \"Mean parameter error:\", mean(err), '%'\n",
    "print \"Standard deviation of parameter error:\", std(err), '%'"
   ]
  },
  {
   "cell_type": "code",
   "execution_count": null,
   "metadata": {
    "collapsed": true
   },
   "outputs": [],
   "source": []
  }
 ],
 "metadata": {
  "anaconda-cloud": {},
  "kernelspec": {
   "display_name": "Python 3",
   "language": "python",
   "name": "python3"
  },
  "language_info": {
   "codemirror_mode": {
    "name": "ipython",
    "version": 3
   },
   "file_extension": ".py",
   "mimetype": "text/x-python",
   "name": "python",
   "nbconvert_exporter": "python",
   "pygments_lexer": "ipython3",
   "version": "3.6.8"
  }
 },
 "nbformat": 4,
 "nbformat_minor": 1
}
